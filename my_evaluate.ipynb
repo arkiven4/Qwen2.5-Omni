{
 "cells": [
  {
   "cell_type": "code",
   "execution_count": 1,
   "id": "f5cfc123",
   "metadata": {},
   "outputs": [
    {
     "name": "stdout",
     "output_type": "stream",
     "text": [
      "/home/ldap-users-2/dwipraseetyo-a/Project/Qwen2.5-Omni\n",
      "CUDA_VISIBLE_DEVICES: 0, 1\n",
      "Logical index: 0, Name: NVIDIA GeForce RTX 3090\n",
      "Logical index: 1, Name: NVIDIA GeForce RTX 3090\n"
     ]
    }
   ],
   "source": [
    "%cd /home/is/dwipraseetyo-a/NAS_HAI/Project/Qwen2.5-Omni\n",
    "%pwd\n",
    "\n",
    "import os\n",
    "os.environ[\"CUDA_VISIBLE_DEVICES\"] = \"0, 1\"\n",
    "print(\"CUDA_VISIBLE_DEVICES:\", os.environ[\"CUDA_VISIBLE_DEVICES\"])\n",
    "\n",
    "import torch\n",
    "device_name = torch.cuda.get_device_name(0)\n",
    "for i in range(torch.cuda.device_count()):\n",
    "    props = torch.cuda.get_device_properties(i)\n",
    "    print(f\"Logical index: {i}, Name: {props.name}\")\n",
    "\n",
    "from qwen_mywrapper import get_OmniModel, get_stoppingcrit\n",
    "from qwen_omni_utils import process_mm_info\n",
    "import pandas as pd\n",
    "from tqdm import tqdm\n",
    "\n",
    "from transformers import StoppingCriteria, StoppingCriteriaList, Qwen2_5OmniThinkerForConditionalGeneration, Qwen2_5OmniProcessor, BitsAndBytesConfig\n",
    "import torch\n",
    "\n",
    "import torch\n",
    "from torch.utils.data import Dataset\n",
    "from torch.utils.data import DataLoader\n",
    "\n",
    "import const_variable\n",
    "import commons\n",
    "import random\n",
    "random.seed(42)\n",
    "\n",
    "import warnings\n",
    "warnings.simplefilter(action='ignore', category=FutureWarning)\n",
    "\n",
    "class QwenOmniFinetuneDataset(Dataset):\n",
    "    def __init__(self, data, processor, use_audio_in_video=False):\n",
    "        self.data = data\n",
    "        self.processor = processor\n",
    "        self.use_audio_in_video = use_audio_in_video\n",
    "\n",
    "    def __len__(self):\n",
    "        return len(self.data)\n",
    "\n",
    "    def __getitem__(self, idx):\n",
    "        conversation = self.data[idx][\"messages\"]\n",
    "        return conversation\n",
    "\n",
    "import random, copy\n",
    "import torch\n",
    "from torch.utils.data import DataLoader\n",
    "\n",
    "def collate_fn(batch):\n",
    "    texts, gold_answers = [], []\n",
    "    for conversation in batch:\n",
    "        now_conv = copy.deepcopy(conversation)\n",
    "        gold_answers.append(now_conv[2])  # save real answer\n",
    "        del now_conv[2]  # remove the real answer for generation\n",
    "\n",
    "        text = processor.apply_chat_template(now_conv, add_generation_prompt=True, tokenize=False)\n",
    "        texts.append(text)\n",
    "\n",
    "    audios, images, videos = process_mm_info(batch, use_audio_in_video=False)\n",
    "    batch_inputs = processor(text=texts, audio=audios, images=images, videos=videos, \n",
    "                            return_tensors=\"pt\", padding=True, use_audio_in_video=False)\n",
    "\n",
    "    batch_inputs['use_audio_in_video'] = False\n",
    "    batch_inputs['gold_answers'] = gold_answers\n",
    "    return batch_inputs"
   ]
  },
  {
   "cell_type": "code",
   "execution_count": null,
   "id": "84c9cdd9",
   "metadata": {},
   "outputs": [],
   "source": [
    "bnb_config = BitsAndBytesConfig(\n",
    "    load_in_4bit=True,\n",
    "    bnb_4bit_compute_dtype=torch.float16,\n",
    "    bnb_4bit_use_double_quant=True,\n",
    "    bnb_4bit_quant_type=\"nf4\",\n",
    ")\n",
    "\n",
    "model = Qwen2_5OmniThinkerForConditionalGeneration.from_pretrained(\"outputs/qwen25omni-3b-instructMedic-Reason-notallpresent-llmimagellmsymp-trl-sft/checkpoint-3000\",\n",
    "            torch_dtype=\"auto\",\n",
    "            device_map=\"auto\",  \n",
    "            quantization_config=bnb_config, \n",
    "            attn_implementation=\"flash_attention_2\",\n",
    "            offload_folder=\"offload\", # Offload weights to CPU if needed\n",
    "        )\n",
    "model.eval()\n",
    "processor = Qwen2_5OmniProcessor.from_pretrained(\"Qwen/Qwen2.5-Omni-3B\")\n",
    "\n",
    "stopping_criteria = get_stoppingcrit(processor)"
   ]
  },
  {
   "cell_type": "code",
   "execution_count": 2,
   "id": "954613a0",
   "metadata": {},
   "outputs": [],
   "source": [
    "DATA_PATH = \"/home/is/dwipraseetyo-a/NAS_HAI/Datasets/cidrz\""
   ]
  },
  {
   "cell_type": "code",
   "execution_count": null,
   "id": "0dd339f3",
   "metadata": {},
   "outputs": [
    {
     "name": "stderr",
     "output_type": "stream",
     "text": [
      "Processing Datasets: 100%|██████████████████████████████████████████████████████████████████████████████████████████████████████████████████████████████████████████████████████████████████████████████| 127/127 [00:00<00:00, 17794.44it/s]\n",
      "100%|██████████████████████████████████████████████████████████████████████████████████████████████████████████████████████████████████████████████████████████████████████████████████████████████████████| 127/127 [00:25<00:00,  5.00it/s]\n"
     ]
    }
   ],
   "source": [
    "df = pd.read_csv(f\"{DATA_PATH}/metadata_cut_processed.csv.test\")\n",
    "df_llm_symptoms = ( pd.read_csv(f\"{DATA_PATH}/llm_analyze_symptoms.csv.test\").groupby('barcode', group_keys=False).apply(lambda x: x.sample(1), include_groups=True).reset_index(drop=True) ) \n",
    "df_llm_images = ( pd.read_csv(f\"{DATA_PATH}/llm_analyze_image_formatted.csv.test\").groupby('path_file_image', group_keys=False).apply(lambda x: x.sample(1), include_groups=True).reset_index(drop=True) )\n",
    "df = pd.merge(df, df_llm_symptoms, on='barcode', how='left')\n",
    "df = pd.merge(df, df_llm_images, on='path_file_image', how='left')\n",
    "df = df.rename(columns={'coughdur': 'cough_duration', 'ngtsweats': 'night_sweets', 'weightloss': 'weight_loss', 'body_wt': 'body_weight'})\n",
    "\n",
    "instruct_array_positive = []\n",
    "instruct_array_negative = []\n",
    "\n",
    "for now_row in tqdm(df.itertuples(), desc=f\"Processing Datasets\", total=len(df)):\n",
    "    row_dict = now_row._asdict()\n",
    "    now_audiopath = \"/home/is/dwipraseetyo-a/NAS_HAI/Datasets/cidrz/\" +  now_row.path_file_audio\n",
    "    now_imgaepath = \"/home/is/dwipraseetyo-a/NAS_HAI/Datasets/cidrz/\" +  now_row.path_file_image\n",
    "\n",
    "    modalities = [\"audio\", \"xray\", \"symptoms\"]\n",
    "    key = tuple(modalities)\n",
    "    if key in const_variable.prompt_templates:\n",
    "        question = random.choice(const_variable.prompt_templates[key]) + \". \"\n",
    "    answer = commons.generate_tb_response(modalities, now_row.llm_analyze_symptoms, now_row.llm_analyze_image, positive=(now_row.ground_truth_tb == 1))\n",
    "\n",
    "    array_df = [None, None]\n",
    "    if \"symptoms\" in modalities:\n",
    "        row_dict = now_row._asdict()\n",
    "        selected_feats = random.sample(const_variable.columns_soundfeat, k=random.randint(3, len(const_variable.columns_soundfeat)))\n",
    "        symptom_descriptions = \", \".join(\n",
    "            f\"{feat.replace('_', ' ')} is {row_dict[feat]}\"\n",
    "            for feat in selected_feats\n",
    "            if row_dict.get(feat) != \"Unknown\"\n",
    "        )\n",
    "        if symptom_descriptions:\n",
    "            question += f\" Also, the patient presents with: {symptom_descriptions}.\"\n",
    "\n",
    "    if \"audio\" in modalities:\n",
    "        array_df[0] = now_audiopath\n",
    "\n",
    "    if \"xray\" in modalities:\n",
    "        array_df[1] = now_imgaepath\n",
    "        xray_descriptions = \", \".join(\n",
    "            f\"{feat.replace('_', ' ')} is {row_dict[feat]}\"\n",
    "            for feat in const_variable.columns_imagefeat\n",
    "            if row_dict.get(feat) != \"Unknown\"\n",
    "        )\n",
    "        if xray_descriptions:\n",
    "            question += f\" Additional chest x-ray metadata include: {xray_descriptions}.\"\n",
    "\n",
    "    question = question.strip()\n",
    "    question = question.rstrip(\",.\")\n",
    "    if not question.endswith(\".\"):\n",
    "        question += \".\"\n",
    "\n",
    "    temp_instruct = {\"messages\": [\n",
    "        {\"role\": \"system\",\n",
    "            \"content\": [\n",
    "                {\"type\": \"text\", \"text\": \"You are an advanced medical assistant AI specialized in analyzing and diagnosing clinical conditions. You can interpret and reason over various medical inputs, including cough sounds, chest X-rays, and patient metadata, individually or in combination, depending on what is provided. Your task is to analyze the given information, explain your reasoning clearly, and provide possible diagnoses based on medical understanding. Support your conclusions with observations from the input data whenever possible, and maintain clinical accuracy and clarity in your responses.\"}\n",
    "            ],\n",
    "        },\n",
    "        {\n",
    "            \"role\": \"user\",\n",
    "            \"content\": [\n",
    "                {\"type\": \"text\", \"text\": question},\n",
    "            ],\n",
    "        },\n",
    "        {\"role\": \"assistant\", \"content\": [\n",
    "            {\"type\": \"text\", \"text\": answer}]},\n",
    "    ]}\n",
    "    if array_df[0] != None:\n",
    "        temp_instruct[\"messages\"][1]['content'].append({\"type\": \"audio\", \"audio\": array_df[0]})\n",
    "    if array_df[1] != None:\n",
    "        temp_instruct[\"messages\"][1]['content'].append({\"type\": \"image\", \"image\":array_df[1]})\n",
    "\n",
    "    if now_row.ground_truth_tb == 1:\n",
    "        instruct_array_positive.append(temp_instruct)\n",
    "    elif now_row.ground_truth_tb == 0:\n",
    "        instruct_array_negative.append(temp_instruct)\n",
    "        \n",
    "test_instruct = commons.load_image_PIL(instruct_array)\n",
    "test_dataset = QwenOmniFinetuneDataset(test_instruct, processor, use_audio_in_video=False)"
   ]
  },
  {
   "cell_type": "code",
   "execution_count": null,
   "id": "7a44d2ad",
   "metadata": {},
   "outputs": [],
   "source": [
    " {'messages': [{'role': 'system',\n",
    "    'content': [{'type': 'text',\n",
    "      'text': 'You are an advanced medical assistant AI specialized in analyzing and diagnosing clinical conditions. '\n",
    "      'You can interpret and reason over various medical inputs, including cough sounds, chest X-rays, and patient metadata, individually or in combination, depending on what is provided.'\n",
    "      ' Your task is to analyze the given information, explain your reasoning clearly, and provide possible diagnoses based on medical understanding. '\n",
    "      'Support your conclusions with observations from the input data whenever possible, and maintain clinical accuracy and clarity in your responses.'}]},\n",
    "   {'role': 'user',\n",
    "    'content': [{'type': 'text',\n",
    "      'text': 'Given the combined evidence, does this case represent tuberculosis?.  '\n",
    "      'Also, the patient presents with: chestpain is yes, cigarretes perday is 1-10, night sweets is yes, haemoptysis is no, height is 162.0, weight loss is yes, bmi is 17.0, hiv status is neg, cough duration is >4weeks, sex is m, body weight is 44.0, fever is yes, shortbreath is yes.'\n",
    "      'Additional chest x-ray metadata include: Modality is DX, DistanceSourceToDetector is 1000.0, FieldOfViewDimensions is [350, 425], ImagerPixelSpacing is [0.15, 0.15], TargetExposureIndex is 876.0, Sensitivity is 938.0, PhotometricInterpretation is MONOCHROME1, Rows is 2336, Columns is 2836, PixelIntensityRelationshipSign is 1, WindowCenter is 1469.0, WindowWidth is 4095.0, RescaleIntercept is 0.0, RescaleSlope is 1.0.'},\n",
    "     {'type': 'audio',\n",
    "      'audio': '/home/is/dwipraseetyo-a/NAS_HAI/Datasets/cidrz/wavs/01-399-0803.wav'},\n",
    "     {'type': 'image',\n",
    "      'image': <PIL.Image.Image image mode=L size=2337x2150>}]},\n",
    "   {'role': 'assistant',\n",
    "    'content': [{'type': 'text',\n",
    "      'text': \"From the given symptoms, cough sound, and x-ray, Let me Analyze your regrading your questions.\\n\\n*   \"\n",
    "      \"All modalities are present.\\nThis is a preliminary interpretation based on given data and does not replace a comprehensive clinical evaluation.. \"\n",
    "      \"A definitive diagnosis requires a additional clinical evaluation, including the physical examination findings, Cough Sound, Auscultation Sound, and imaging studies.\\n## 🧠 Overview\\nbased on the findings, Tuberculosis is the most likely diagnosis.\\n\\n## 📋 Observations\\n**Symptoms:**\\n*   The symptoms presented in this case are highly suggestive of tuberculosis (TB). The key indicators include a prolonged cough duration of more than four weeks, which aligns with the chronicity seen in TB cases. A productive cough further raises the suspicion, as TB often leads to the production of sputum, especially when pulmonary involvement is significant. The presence of chest pain and shortness of breath can indicate lung involvement, which is common in TB cases due to the inflammation and damage to lung tissues. Additionally, systemic symptoms like fever, night sweats, and weight loss are classic manifestations of TB, as the infection invokes an immune response that often presents with these features. The patient's low body mass index (BMI of 17.0) indicates malnutrition, which can further compromise immune function and is a concern in TB, where nutritional deficits are often seen. The negative HIV status reduces the likelihood of opportunistic infections; however, it does not exclude TB as a diagnosis, particularly in individuals who may be immunocompromised due to other factors. Tobacco use is an independent risk factor that can exacerbate respiratory illnesses and may contribute to lung pathology but is not a direct link to TB itself. Overall, the symptom pattern aligns with typical presentations of pulmonary tuberculosis.\\n\\n**Chest X-ray:**\\n* Key Features\\n    *   **Interstitial Infiltrates:** The most prominent finding is the presence of interstitial infiltrates, particularly in the upper lobes. These appear as hazy opacities within the lung parenchyma, often with a reticular or nodular pattern. This pattern is highly suggestive of tuberculosis.\\n    *   **Cavitation:** Cavitary lesions are also present, particularly in the upper lobes. These are characterized by areas of air-filled space within the lung parenchyma, often surrounded by a thick, well-defined wall. Cavitation is a common feature of TB, especially in reactivation disease.\\n    *   **Fibrotic Changes:** There may be evidence of fibrotic changes, such as pleural thickening or reticular opacities in the lung parenchyma. These findings can be seen in chronic or advanced TB.\\n    *   **Lymphadenopathy:** Enlarged lymph nodes (lymphadenopathy) may be present, particularly in the hilar regions. This can be a sign of TB infection. \\n\\nThe chest X-ray findings are highly suggestive of tuberculosis. The presence of interstitial infiltrates, cavitation, and potentially fibrotic changes in the upper lobes, along with possible lymphadenopathy, strongly points towards this diagnosis. Further evaluation, such as sputum cultures and/or a biopsy, is recommended to confirm the diagnosis and determine the specific type of TB. \\n\\n\\n**Audio:**\\n*   Will be Implemented Soon\"}]}]},"
   ]
  },
  {
   "cell_type": "code",
   "execution_count": 7,
   "id": "4cf42c11",
   "metadata": {},
   "outputs": [],
   "source": [
    "test_loader = DataLoader(\n",
    "    test_dataset,\n",
    "    batch_size=5, shuffle=False,\n",
    "    collate_fn=collate_fn\n",
    ")"
   ]
  },
  {
   "cell_type": "code",
   "execution_count": 8,
   "id": "0f8b7ac5",
   "metadata": {},
   "outputs": [
    {
     "name": "stderr",
     "output_type": "stream",
     "text": [
      "  0%|                                                                                                                                                                                                                 | 0/26 [00:00<?, ?it/s]Casting fp32 inputs back to torch.float16 for flash-attn compatibility.\n",
      "100%|███████████████████████████████████████████████████████████████████████████████████████████████████████████████████████████████████████████████████████████████████████████████████████████████████████| 26/26 [55:52<00:00, 128.93s/it]\n"
     ]
    }
   ],
   "source": [
    "generated_texts = []\n",
    "reference_texts = []\n",
    "for batch in tqdm(test_loader):\n",
    "    gold_answers = batch.pop('gold_answers')\n",
    "    batch = {\n",
    "        k: (v.to(model.device).to(model.dtype) if v.dtype.is_floating_point else v.to(model.device))\n",
    "        if torch.is_tensor(v) else v\n",
    "        for k, v in batch.items()\n",
    "    }\n",
    "\n",
    "    with torch.no_grad(), torch.amp.autocast('cuda'):\n",
    "        generation = model.generate(\n",
    "            **batch,\n",
    "            stopping_criteria=stopping_criteria,\n",
    "            max_new_tokens=768,\n",
    "        )\n",
    "        generate_ids = generation[:, batch[\"input_ids\"].size(1):]\n",
    "\n",
    "    decoded = processor.batch_decode(generate_ids, skip_special_tokens=True, clean_up_tokenization_spaces=True)\n",
    "    generated_texts.extend(decoded)\n",
    "    for gold_answer in gold_answers:\n",
    "        reference_texts.append(gold_answer['content'][0]['text'])\n",
    "\n",
    "    del generation, generate_ids, batch\n",
    "    torch.cuda.empty_cache()\n",
    "    torch.cuda.ipc_collect()"
   ]
  },
  {
   "cell_type": "code",
   "execution_count": 21,
   "id": "6d2190b8",
   "metadata": {},
   "outputs": [],
   "source": [
    "import re\n",
    "import const_variable\n",
    "from sklearn.metrics import confusion_matrix, accuracy_score\n",
    "import matplotlib.pyplot as plt\n",
    "import seaborn as sns"
   ]
  },
  {
   "cell_type": "code",
   "execution_count": 14,
   "id": "fae23e0b",
   "metadata": {},
   "outputs": [],
   "source": [
    "labe_gen, label_original = [], []\n",
    "for generated_text in generated_texts:\n",
    "    match = re.search(r\"## 🧠 Overview\\n(.*?)\\n\\n##\", generated_text, re.DOTALL)\n",
    "    sentence = match.group(1).strip() if match else None\n",
    "    if sentence in const_variable.positive_templates:\n",
    "        labe_gen.append(1)\n",
    "    elif sentence in const_variable.negative_templates:\n",
    "        labe_gen.append(0)\n",
    "    else:\n",
    "        labe_gen.append(None)\n",
    "\n",
    "for reference_text in reference_texts:\n",
    "    match = re.search(r\"## 🧠 Overview\\n(.*?)\\n\\n##\", reference_text, re.DOTALL)\n",
    "    sentence = match.group(1).strip() if match else None\n",
    "    if sentence in const_variable.positive_templates:\n",
    "        label_original.append(1)\n",
    "    elif sentence in const_variable.negative_templates:\n",
    "        label_original.append(0)\n",
    "    else:\n",
    "        label_original.append(None)"
   ]
  },
  {
   "cell_type": "code",
   "execution_count": 22,
   "id": "d75c7a67",
   "metadata": {},
   "outputs": [
    {
     "name": "stdout",
     "output_type": "stream",
     "text": [
      "Accuracy: 0.827\n",
      "Sensitivity: 0.000\n",
      "Specificity: 1.000\n"
     ]
    },
    {
     "data": {
      "image/png": "[encoded data removed]",
      "text/plain": [
       "<Figure size 600x500 with 2 Axes>"
      ]
     },
     "metadata": {},
     "output_type": "display_data"
    }
   ],
   "source": [
    "accuracy = accuracy_score(label_original, labe_gen)\n",
    "tn, fp, fn, tp = confusion_matrix(label_original, labe_gen).ravel()\n",
    "sensitivity = tp / (tp + fn)\n",
    "specificity = tn / (tn + fp)\n",
    "\n",
    "print(f\"Accuracy: {accuracy:.3f}\")\n",
    "print(f\"Sensitivity: {sensitivity:.3f}\")\n",
    "print(f\"Specificity: {specificity:.3f}\")\n",
    "\n",
    "cm = confusion_matrix(labe_gen, label_original)\n",
    "labels = ['Negative (0)', 'Positive (1)']\n",
    "\n",
    "# Plot\n",
    "plt.figure(figsize=(6, 5))\n",
    "sns.heatmap(cm, annot=True, fmt=\"d\", cmap=\"Blues\", \n",
    "            xticklabels=labels, yticklabels=labels)\n",
    "\n",
    "plt.xlabel(\"Predicted Label\")\n",
    "plt.ylabel(\"True Label\")\n",
    "plt.title(\"Confusion Matrix\")\n",
    "plt.tight_layout()\n",
    "plt.show()"
   ]
  },
  {
   "cell_type": "code",
   "execution_count": null,
   "id": "a22dce37",
   "metadata": {},
   "outputs": [
    {
     "name": "stderr",
     "output_type": "stream",
     "text": [
      "Some weights of RobertaModel were not initialized from the model checkpoint at roberta-large and are newly initialized: ['pooler.dense.bias', 'pooler.dense.weight']\n",
      "You should probably TRAIN this model on a down-stream task to be able to use it for predictions and inference.\n"
     ]
    },
    {
     "name": "stdout",
     "output_type": "stream",
     "text": [
      "calculating scores...\n",
      "computing bert embedding.\n"
     ]
    },
    {
     "name": "stderr",
     "output_type": "stream",
     "text": [
      "100%|██████████████████████████████████████████████████████████████████████████████████████████████████████████████████████████████████████████████████████████████████████████████████████████████████████████| 4/4 [00:04<00:00,  1.08s/it]\n"
     ]
    },
    {
     "name": "stdout",
     "output_type": "stream",
     "text": [
      "computing greedy matching.\n"
     ]
    },
    {
     "name": "stderr",
     "output_type": "stream",
     "text": [
      "100%|██████████████████████████████████████████████████████████████████████████████████████████████████████████████████████████████████████████████████████████████████████████████████████████████████████████| 2/2 [00:00<00:00, 17.03it/s]"
     ]
    },
    {
     "name": "stdout",
     "output_type": "stream",
     "text": [
      "done in 4.48 seconds, 28.32 sentences/sec\n",
      "BERTScore F1: 0.9462870955467224\n"
     ]
    },
    {
     "name": "stderr",
     "output_type": "stream",
     "text": [
      "\n"
     ]
    }
   ],
   "source": [
    "from bert_score import score\n",
    "\n",
    "P = generated_texts # predicted\n",
    "R = reference_texts # reference\n",
    "\n",
    "P, R, F1 = score(P, R, lang=\"en\", verbose=True, nthreads=10)\n",
    "print(\"BERTScore F1:\", F1[0].item())"
   ]
  },
  {
   "cell_type": "code",
   "execution_count": null,
   "id": "902038bc",
   "metadata": {},
   "outputs": [],
   "source": []
  },
  {
   "cell_type": "code",
   "execution_count": 11,
   "id": "34876fd8",
   "metadata": {},
   "outputs": [],
   "source": [
    "from IPython.display import Audio, Markdown, display"
   ]
  },
  {
   "cell_type": "code",
   "execution_count": 12,
   "id": "e772ecdf",
   "metadata": {},
   "outputs": [
    {
     "data": {
      "text/markdown": [
       "From the given symptoms, cough sound, and x-ray, Let me Analyze your regrading your questions.\n",
       "\n",
       "*   All modalities are present.\n",
       "This is a preliminary interpretation based on given data and does not replace a comprehensive clinical evaluation.. A definitive diagnosis requires a additional clinical evaluation, including the physical examination findings, Cough Sound, Auscultation Sound, and imaging studies.\n",
       "## 🧠 Overview\n",
       "based on the findings, Tuberculosis is the most likely diagnosis.\n",
       "\n",
       "## 📋 Observations\n",
       "**Symptoms:**\n",
       "*   The symptoms presented in this case are highly suggestive of tuberculosis (TB). The key indicators include a prolonged cough duration of more than four weeks, which aligns with the chronicity seen in TB cases. A productive cough further raises the suspicion, as TB often leads to the production of sputum, especially when pulmonary involvement is significant. The presence of chest pain and shortness of breath can indicate lung involvement, which is common in TB cases due to the inflammation and damage to lung tissues. Additionally, systemic symptoms like fever, night sweats, and weight loss are classic manifestations of TB, as the infection invokes an immune response that often presents with these features. The patient's low body mass index (BMI of 17.0) indicates malnutrition, which can further compromise immune function and is a concern in TB, where nutritional deficits are often seen. The negative HIV status reduces the likelihood of opportunistic infections; however, it does not exclude TB as a diagnosis, particularly in individuals who may be immunocompromised due to other factors. Tobacco use is an independent risk factor that can exacerbate respiratory illnesses and may contribute to lung pathology but is not a direct link to TB itself. Overall, the symptom pattern aligns with typical presentations of pulmonary tuberculosis.\n",
       "\n",
       "**Chest X-ray:**\n",
       "* Key Features\n",
       "    *   **Interstitial Infiltrates:** The most prominent finding is the presence of interstitial infiltrates, particularly in the upper lobes. These appear as hazy opacities within the lung parenchyma, often with a reticular or nodular pattern. This pattern is highly suggestive of tuberculosis.\n",
       "    *   **Cavitation:** Cavitary lesions are also present, particularly in the upper lobes. These are characterized by areas of air-filled space within the lung parenchyma, often surrounded by a thick, well-defined wall. Cavitation is a common feature of TB, especially in reactivation disease.\n",
       "    *   **Fibrotic Changes:** There may be evidence of fibrotic changes, such as pleural thickening or reticular opacities in the lung parenchyma. These findings can be seen in chronic or advanced TB.\n",
       "    *   **Lymphadenopathy:** Enlarged lymph nodes (lymphadenopathy) may be present, particularly in the hilar regions. This can be a sign of TB infection. \n",
       "\n",
       "The chest X-ray findings are highly suggestive of tuberculosis. The presence of interstitial infiltrates, cavitation, and potentially fibrotic changes in the upper lobes, along with possible lymphadenopathy, strongly points towards this diagnosis. Further evaluation, such as sputum cultures and/or a biopsy, is recommended to confirm the diagnosis and determine the specific type of TB. \n",
       "\n",
       "\n",
       "**Audio:**\n",
       "*   Will be Implemented Soon"
      ],
      "text/plain": [
       "<IPython.core.display.Markdown object>"
      ]
     },
     "metadata": {},
     "output_type": "display_data"
    }
   ],
   "source": [
    "display(Markdown(\"From the given symptoms, cough sound, and x-ray, Let me Analyze your regrading your questions.\\n\\n*   All modalities are present.\\nThis is a preliminary interpretation based on given data and does not replace a comprehensive clinical evaluation.. A definitive diagnosis requires a additional clinical evaluation, including the physical examination findings, Cough Sound, Auscultation Sound, and imaging studies.\\n## 🧠 Overview\\nbased on the findings, Tuberculosis is the most likely diagnosis.\\n\\n## 📋 Observations\\n**Symptoms:**\\n*   The symptoms presented in this case are highly suggestive of tuberculosis (TB). The key indicators include a prolonged cough duration of more than four weeks, which aligns with the chronicity seen in TB cases. A productive cough further raises the suspicion, as TB often leads to the production of sputum, especially when pulmonary involvement is significant. The presence of chest pain and shortness of breath can indicate lung involvement, which is common in TB cases due to the inflammation and damage to lung tissues. Additionally, systemic symptoms like fever, night sweats, and weight loss are classic manifestations of TB, as the infection invokes an immune response that often presents with these features. The patient's low body mass index (BMI of 17.0) indicates malnutrition, which can further compromise immune function and is a concern in TB, where nutritional deficits are often seen. The negative HIV status reduces the likelihood of opportunistic infections; however, it does not exclude TB as a diagnosis, particularly in individuals who may be immunocompromised due to other factors. Tobacco use is an independent risk factor that can exacerbate respiratory illnesses and may contribute to lung pathology but is not a direct link to TB itself. Overall, the symptom pattern aligns with typical presentations of pulmonary tuberculosis.\\n\\n**Chest X-ray:**\\n* Key Features\\n    *   **Interstitial Infiltrates:** The most prominent finding is the presence of interstitial infiltrates, particularly in the upper lobes. These appear as hazy opacities within the lung parenchyma, often with a reticular or nodular pattern. This pattern is highly suggestive of tuberculosis.\\n    *   **Cavitation:** Cavitary lesions are also present, particularly in the upper lobes. These are characterized by areas of air-filled space within the lung parenchyma, often surrounded by a thick, well-defined wall. Cavitation is a common feature of TB, especially in reactivation disease.\\n    *   **Fibrotic Changes:** There may be evidence of fibrotic changes, such as pleural thickening or reticular opacities in the lung parenchyma. These findings can be seen in chronic or advanced TB.\\n    *   **Lymphadenopathy:** Enlarged lymph nodes (lymphadenopathy) may be present, particularly in the hilar regions. This can be a sign of TB infection. \\n\\nThe chest X-ray findings are highly suggestive of tuberculosis. The presence of interstitial infiltrates, cavitation, and potentially fibrotic changes in the upper lobes, along with possible lymphadenopathy, strongly points towards this diagnosis. Further evaluation, such as sputum cultures and/or a biopsy, is recommended to confirm the diagnosis and determine the specific type of TB. \\n\\n\\n**Audio:**\\n*   Will be Implemented Soon\"))"
   ]
  }
 ],
 "metadata": {
  "kernelspec": {
   "display_name": "Python 3 (ipykernel)",
   "language": "python",
   "name": "python3"
  },
  "language_info": {
   "codemirror_mode": {
    "name": "ipython",
    "version": 3
   },
   "file_extension": ".py",
   "mimetype": "text/x-python",
   "name": "python",
   "nbconvert_exporter": "python",
   "pygments_lexer": "ipython3",
   "version": "3.12.3"
  }
 },
 "nbformat": 4,
 "nbformat_minor": 5
}
